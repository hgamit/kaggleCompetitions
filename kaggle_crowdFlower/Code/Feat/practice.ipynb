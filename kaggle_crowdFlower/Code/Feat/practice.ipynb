{
 "cells": [
  {
   "cell_type": "code",
   "execution_count": 30,
   "metadata": {},
   "outputs": [
    {
     "data": {
      "text/plain": [
       "('en_US', 'cp1252')"
      ]
     },
     "execution_count": 30,
     "metadata": {},
     "output_type": "execute_result"
    }
   ],
   "source": [
    "import re, locale\n",
    "locale.getdefaultlocale() "
   ]
  },
  {
   "cell_type": "code",
   "execution_count": 31,
   "metadata": {},
   "outputs": [
    {
     "data": {
      "text/plain": [
       "(None, None)"
      ]
     },
     "execution_count": 31,
     "metadata": {},
     "output_type": "execute_result"
    }
   ],
   "source": [
    "locale.getlocale() "
   ]
  },
  {
   "cell_type": "code",
   "execution_count": 32,
   "metadata": {},
   "outputs": [
    {
     "ename": "AttributeError",
     "evalue": "module 're' has no attribute 'locale'",
     "output_type": "error",
     "traceback": [
      "\u001b[1;31m---------------------------------------------------------------------------\u001b[0m",
      "\u001b[1;31mAttributeError\u001b[0m                            Traceback (most recent call last)",
      "\u001b[1;32m<ipython-input-32-4f7fc899a9ec>\u001b[0m in \u001b[0;36m<module>\u001b[1;34m()\u001b[0m\n\u001b[1;32m----> 1\u001b[1;33m \u001b[0mre\u001b[0m\u001b[1;33m.\u001b[0m\u001b[0mfindall\u001b[0m\u001b[1;33m(\u001b[0m\u001b[1;34mr'\\w'\u001b[0m\u001b[1;33m,\u001b[0m \u001b[1;34mu'a b c \\xe5 \\xe6 \\xe7'\u001b[0m\u001b[1;33m,\u001b[0m \u001b[0mre\u001b[0m\u001b[1;33m.\u001b[0m\u001b[0mlocale\u001b[0m\u001b[1;33m)\u001b[0m\u001b[1;33m\u001b[0m\u001b[0m\n\u001b[0m",
      "\u001b[1;31mAttributeError\u001b[0m: module 're' has no attribute 'locale'"
     ]
    }
   ],
   "source": [
    "re.findall(r'\\w', u'a b c \\xe5 \\xe6 \\xe7', re.locale) "
   ]
  },
  {
   "cell_type": "code",
   "execution_count": 33,
   "metadata": {},
   "outputs": [
    {
     "data": {
      "text/plain": [
       "'def'"
      ]
     },
     "execution_count": 33,
     "metadata": {},
     "output_type": "execute_result"
    }
   ],
   "source": [
    "import re\n",
    "m = re.search('(?<=abc)def', 'abcdef')\n",
    "m.group(0)"
   ]
  },
  {
   "cell_type": "code",
   "execution_count": 12,
   "metadata": {},
   "outputs": [
    {
     "data": {
      "text/plain": [
       "array([[1, 1, 2],\n",
       "       [2, 2, 3],\n",
       "       [3, 1, 2],\n",
       "       [4, 2, 3]])"
      ]
     },
     "execution_count": 12,
     "metadata": {},
     "output_type": "execute_result"
    }
   ],
   "source": [
    "    import numpy as np\n",
    "    x = [1,2,3,4]\n",
    "    y = [[1, 2],[2, 3], [1, 2],[2, 3]]\n",
    "\n",
    "    a = np.column_stack([x, np.array(y)])\n",
    "    a"
   ]
  },
  {
   "cell_type": "code",
   "execution_count": 22,
   "metadata": {},
   "outputs": [
    {
     "name": "stdout",
     "output_type": "stream",
     "text": [
      "(114, 90)\n",
      "[  5.95993327e-02   5.17390868e-02   4.58781093e-02   4.11848421e-02\n",
      "   3.87909152e-02   3.63695824e-02   3.65052464e-02   3.58369851e-02\n",
      "   3.04334404e-02   2.93991232e-02   2.69424699e-02   2.48442884e-02\n",
      "   2.52296226e-02   2.56149569e-02   2.33663643e-02   1.94233236e-02\n",
      "   1.94460865e-02   1.95898955e-02   1.95226922e-02   1.94960441e-02\n",
      "   1.95658105e-02   1.95858982e-02   1.95700986e-02   1.92021676e-02\n",
      "   1.93886648e-02   1.74429932e-02   1.44719422e-02   1.43018650e-02\n",
      "   1.27374102e-02   1.24470018e-02   9.61568294e-03   9.20706993e-03\n",
      "   9.79306958e-03   9.79841694e-03   9.72377122e-03   9.69817152e-03\n",
      "   9.57135446e-03   9.79184589e-03   9.78849194e-03   9.72874314e-03\n",
      "   9.79956135e-03   9.79098751e-03   9.76406138e-03   9.72936947e-03\n",
      "   9.79964616e-03   9.79836405e-03   9.73506397e-03   5.54040514e-03\n",
      "   4.49972900e-03   3.74079044e-03   3.73790499e-03   3.74037104e-03\n",
      "   3.13961463e-03   3.05152650e-03   2.55491741e-03   2.62406620e-03\n",
      "   2.29949925e-03   2.01124420e-03   1.23269359e-32   1.87457025e-33\n",
      "   1.84389361e-33   1.43864793e-33   6.58239934e-34   5.53421493e-34\n",
      "   5.56469001e-34   5.55743993e-34   5.57103388e-34   5.34619081e-34\n",
      "   5.53995534e-34   5.58454075e-34   5.58938153e-34   5.50650324e-34\n",
      "   5.54031724e-34   5.58416068e-34   5.46348350e-34   5.53022214e-34\n",
      "   5.58716866e-34   5.58868142e-34   5.56479038e-34   5.46898307e-34\n",
      "   5.58793232e-34   5.54056859e-34   5.54056859e-34   5.54056859e-34\n",
      "   4.96931884e-34   3.47072986e-34   1.69050924e-34   1.27866698e-36\n",
      "   1.80786671e-38]\n",
      "1.0\n"
     ]
    }
   ],
   "source": [
    "from sklearn.decomposition import TruncatedSVD\n",
    "from sklearn.random_projection import sparse_random_matrix\n",
    "X = sparse_random_matrix(114, 90, density=0.01, random_state=42)\n",
    "print(X.shape)\n",
    "svd = TruncatedSVD(n_components=89, n_iter=7, random_state=42)\n",
    "svd.fit(X) \n",
    "print(svd.explained_variance_ratio_) \n",
    "print(svd.explained_variance_ratio_.sum()) "
   ]
  },
  {
   "cell_type": "code",
   "execution_count": 28,
   "metadata": {},
   "outputs": [
    {
     "name": "stdout",
     "output_type": "stream",
     "text": [
      "    0  1\n",
      "0  33  7\n",
      "1  33  7\n",
      "2  33  7\n",
      "3  33  7\n",
      "BERROR\n",
      "[[ 0.  0.]\n",
      " [ 0.  0.]\n",
      " [ 0.  0.]\n",
      " [ 0.  0.]]\n"
     ]
    }
   ],
   "source": [
    "import numpy as np\n",
    "from sklearn import preprocessing\n",
    "import pandas as pd\n",
    "\n",
    "data = [\n",
    "(33, 7),\n",
    "(33, 7),\n",
    "(33, 7),\n",
    "(33, 7),\n",
    "]\n",
    "temp = pd.DataFrame(data)\n",
    "print(temp)\n",
    "#temp = [1,2,3,4,5,5,6,8,7] #an instance \n",
    "#temp = np.array(temp).reshape((-1, 1))\n",
    "\n",
    "scaler = preprocessing.MinMaxScaler().fit(temp)\n",
    "print(\"BERROR\")\n",
    "temp = scaler.transform(temp)\n",
    "#temp = np.array(temp).reshape((-1, 1))\n",
    "print(temp)"
   ]
  }
 ],
 "metadata": {
  "kernelspec": {
   "display_name": "Python 3",
   "language": "python",
   "name": "python3"
  },
  "language_info": {
   "codemirror_mode": {
    "name": "ipython",
    "version": 3
   },
   "file_extension": ".py",
   "mimetype": "text/x-python",
   "name": "python",
   "nbconvert_exporter": "python",
   "pygments_lexer": "ipython3",
   "version": "3.6.0"
  }
 },
 "nbformat": 4,
 "nbformat_minor": 2
}

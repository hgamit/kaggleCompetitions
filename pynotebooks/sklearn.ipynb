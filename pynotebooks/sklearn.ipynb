{
 "cells": [
  {
   "cell_type": "markdown",
   "metadata": {},
   "source": [
    "SKLearn model selection - Every estimator exposes a score method that can judge the quality of the fit (or the prediction) on new data.\n",
    "\n",
    "Here, Normal cross validation - svc.fit run without last 100 and score checked without first 100"
   ]
  },
  {
   "cell_type": "code",
   "execution_count": 1,
   "metadata": {},
   "outputs": [
    {
     "data": {
      "text/plain": [
       "0.97999999999999998"
      ]
     },
     "execution_count": 1,
     "metadata": {},
     "output_type": "execute_result"
    }
   ],
   "source": [
    "from sklearn import datasets, svm\n",
    "digits = datasets.load_digits()\n",
    "X_digits = digits.data\n",
    "y_digits = digits.target\n",
    "svc = svm.SVC(C=1, kernel='linear')\n",
    "svc.fit(X_digits[:-100], y_digits[:-100]).score(X_digits[-100:], y_digits[-100:])"
   ]
  },
  {
   "cell_type": "code",
   "execution_count": 2,
   "metadata": {},
   "outputs": [
    {
     "data": {
      "text/plain": [
       "array([[  0.,   0.,   5.,  13.,   9.,   1.,   0.,   0.,   0.,   0.,  13.,\n",
       "         15.,  10.,  15.,   5.,   0.,   0.,   3.,  15.,   2.,   0.,  11.,\n",
       "          8.,   0.,   0.,   4.,  12.,   0.,   0.,   8.,   8.,   0.,   0.,\n",
       "          5.,   8.,   0.,   0.,   9.,   8.,   0.,   0.,   4.,  11.,   0.,\n",
       "          1.,  12.,   7.,   0.,   0.,   2.,  14.,   5.,  10.,  12.,   0.,\n",
       "          0.,   0.,   0.,   6.,  13.,  10.,   0.,   0.,   0.],\n",
       "       [  0.,   0.,   0.,  12.,  13.,   5.,   0.,   0.,   0.,   0.,   0.,\n",
       "         11.,  16.,   9.,   0.,   0.,   0.,   0.,   3.,  15.,  16.,   6.,\n",
       "          0.,   0.,   0.,   7.,  15.,  16.,  16.,   2.,   0.,   0.,   0.,\n",
       "          0.,   1.,  16.,  16.,   3.,   0.,   0.,   0.,   0.,   1.,  16.,\n",
       "         16.,   6.,   0.,   0.,   0.,   0.,   1.,  16.,  16.,   6.,   0.,\n",
       "          0.,   0.,   0.,   0.,  11.,  16.,  10.,   0.,   0.]])"
      ]
     },
     "execution_count": 2,
     "metadata": {},
     "output_type": "execute_result"
    }
   ],
   "source": [
    "X_digits[:-1795]"
   ]
  },
  {
   "cell_type": "code",
   "execution_count": 3,
   "metadata": {},
   "outputs": [
    {
     "data": {
      "text/plain": [
       "array([0, 1, 2, 3, 4, 5, 6, 7, 8, 9, 0, 1, 2, 3, 4, 5, 6, 7, 8, 9])"
      ]
     },
     "execution_count": 3,
     "metadata": {},
     "output_type": "execute_result"
    }
   ],
   "source": [
    "y_digits[:20]"
   ]
  },
  {
   "cell_type": "markdown",
   "metadata": {},
   "source": [
    "To get a better measure of prediction accuracy (which we can use as a proxy for goodness of fit of the model), we can successively split the data in folds that we use for training and testing:\n",
    "\n",
    "1) split data into sets or folds\n",
    "\n",
    "x = np.arange(8.0)\n",
    "\n",
    "np.array_split(x, 3)\n",
    "\n",
    "2) looping for each fold \n",
    "3) We use 'list' to copy, in order to 'pop' later on\n",
    "3) popping array values to test score fold\n",
    "4) merged folds to single array \n",
    "\n",
    "X_train = np.concatenate(X_train)\n",
    "\n",
    "5) calculating score and appending it to list foreach fold\n"
   ]
  },
  {
   "cell_type": "code",
   "execution_count": 4,
   "metadata": {},
   "outputs": [
    {
     "data": {
      "text/plain": [
       "[array([ 0.,  1.,  2.]), array([ 3.,  4.,  5.]), array([ 6.,  7.])]"
      ]
     },
     "execution_count": 4,
     "metadata": {},
     "output_type": "execute_result"
    }
   ],
   "source": [
    "import numpy as np\n",
    "x = np.arange(8.0)\n",
    "np.array_split(x, 3)"
   ]
  },
  {
   "cell_type": "code",
   "execution_count": 5,
   "metadata": {
    "collapsed": true
   },
   "outputs": [],
   "source": [
    "\n",
    "X_folds = np.array_split(X_digits, 3)\n",
    "y_folds = np.array_split(y_digits, 3)"
   ]
  },
  {
   "cell_type": "code",
   "execution_count": 6,
   "metadata": {},
   "outputs": [
    {
     "name": "stdout",
     "output_type": "stream",
     "text": [
      "[0.93489148580968284, 0.95659432387312182, 0.93989983305509184]\n"
     ]
    }
   ],
   "source": [
    "scores = list()\n",
    "for k in range(3): #looping for each fold    \n",
    "    X_train = list(X_folds) # We use 'list' to copy, in order to 'pop' later on\n",
    "    X_test  = X_train.pop(k) #popping array values \n",
    "    X_train = np.concatenate(X_train) #merged folds to single array\n",
    "    y_train = list(y_folds)\n",
    "    y_test  = y_train.pop(k)\n",
    "    y_train = np.concatenate(y_train)\n",
    "    scores.append(svc.fit(X_train, y_train).score(X_test, y_test)) #calculating score and appending it to list foreach fold\n",
    "print(scores)"
   ]
  },
  {
   "cell_type": "markdown",
   "metadata": {},
   "source": [
    "Cross-validation generators: Scikit-learn has a collection of classes which can be used to generate lists of train/test indices for popular cross-validation strategies.\n",
    "\n",
    "Example below, usage of the split method:"
   ]
  },
  {
   "cell_type": "code",
   "execution_count": 7,
   "metadata": {},
   "outputs": [
    {
     "name": "stdout",
     "output_type": "stream",
     "text": [
      "Train: [2 3 4 5] | test: [0 1]\n",
      "Train: [0 1 4 5] | test: [2 3]\n",
      "Train: [0 1 2 3] | test: [4 5]\n"
     ]
    }
   ],
   "source": [
    "from sklearn.model_selection import KFold, cross_val_score\n",
    "X = [\"a\", \"a\", \"b\", \"c\", \"c\", \"c\"]\n",
    "k_fold = KFold(n_splits=3)\n",
    "for train_indices, test_indices in k_fold.split(X):\n",
    "     print('Train: %s | test: %s' % (train_indices, test_indices))"
   ]
  },
  {
   "cell_type": "code",
   "execution_count": 8,
   "metadata": {},
   "outputs": [
    {
     "data": {
      "text/plain": [
       "[0.93489148580968284, 0.95659432387312182, 0.93989983305509184]"
      ]
     },
     "execution_count": 8,
     "metadata": {},
     "output_type": "execute_result"
    }
   ],
   "source": [
    "kfold = KFold(n_splits=3)\n",
    "[svc.fit(X_digits[train], y_digits[train]).score(X_digits[test], y_digits[test])\n",
    "         for train, test in k_fold.split(X_digits)]"
   ]
  },
  {
   "cell_type": "markdown",
   "metadata": {},
   "source": [
    "The cross-validation score can be directly calculated using the cross_val_score helper.\n",
    "\n",
    "n_jobs=-1 means that the computation will be dispatched on all the CPUs of the computer."
   ]
  },
  {
   "cell_type": "code",
   "execution_count": 9,
   "metadata": {},
   "outputs": [
    {
     "data": {
      "text/plain": [
       "array([ 0.93489149,  0.95659432,  0.93989983])"
      ]
     },
     "execution_count": 9,
     "metadata": {},
     "output_type": "execute_result"
    }
   ],
   "source": [
    "cross_val_score(svc, X_digits, y_digits, cv=k_fold, n_jobs=-1)"
   ]
  },
  {
   "cell_type": "code",
   "execution_count": 10,
   "metadata": {},
   "outputs": [
    {
     "data": {
      "text/plain": [
       "array([ 0.93969761,  0.95911415,  0.94041254])"
      ]
     },
     "execution_count": 10,
     "metadata": {},
     "output_type": "execute_result"
    }
   ],
   "source": [
    "cross_val_score(svc, X_digits, y_digits, cv=k_fold,\n",
    "                scoring='precision_macro')"
   ]
  },
  {
   "cell_type": "markdown",
   "metadata": {},
   "source": [
    "Stratified K-Folds cross-validator\n",
    "\n",
    "Provides train/test indices to split data in train/test sets.\n",
    "\n",
    "This cross-validation object is a variation of KFold that returns stratified folds. The folds are made by preserving the percentage of samples for each class.\n",
    "\n",
    "Simple Example with numpy Array:"
   ]
  },
  {
   "cell_type": "code",
   "execution_count": 11,
   "metadata": {},
   "outputs": [
    {
     "name": "stdout",
     "output_type": "stream",
     "text": [
      "StratifiedKFold(n_splits=2, random_state=None, shuffle=False)\n",
      "TRAIN: [1 3] TEST: [0 2]\n",
      "TRAIN: [0 2] TEST: [1 3]\n"
     ]
    }
   ],
   "source": [
    "from sklearn.model_selection import StratifiedKFold\n",
    "X = np.array([[1, 2], [3, 4], [1, 2], [3, 4]])\n",
    "y = np.array([0, 0, 1, 1])\n",
    "skf = StratifiedKFold(n_splits=2)\n",
    "skf.get_n_splits(X, y)\n",
    "\n",
    "print(skf)  \n",
    "\n",
    "for train_index, test_index in skf.split(X, y):\n",
    "   print(\"TRAIN:\", train_index, \"TEST:\", test_index)\n",
    "   X_train, X_test = X[train_index], X[test_index]\n",
    "   y_train, y_test = y[train_index], y[test_index]"
   ]
  },
  {
   "cell_type": "markdown",
   "metadata": {},
   "source": [
    "StratifiedKFold Generation for crowdflower data, breaks data into set of train and test indices"
   ]
  },
  {
   "cell_type": "code",
   "execution_count": 52,
   "metadata": {},
   "outputs": [],
   "source": [
    "import os\n",
    "os.chdir(\"C:\\\\Users\\\\hgamit\\\\workspace\\\\crowdf\\\\test\")\n",
    "import dill as cPickle\n",
    "from sklearn.model_selection import StratifiedKFold"
   ]
  },
  {
   "cell_type": "code",
   "execution_count": 53,
   "metadata": {
    "collapsed": true
   },
   "outputs": [],
   "source": [
    "## load data\n",
    "with open(\"../processed/train.processed.csv.pkl\", \"rb\") as f:\n",
    "    dfTrain = cPickle.load(f)"
   ]
  },
  {
   "cell_type": "code",
   "execution_count": 54,
   "metadata": {},
   "outputs": [
    {
     "data": {
      "text/plain": [
       "[0, 0, 0]"
      ]
     },
     "execution_count": 54,
     "metadata": {},
     "output_type": "execute_result"
    }
   ],
   "source": [
    "skf = [0]*3\n",
    "skf"
   ]
  },
  {
   "cell_type": "code",
   "execution_count": 66,
   "metadata": {},
   "outputs": [
    {
     "data": {
      "text/plain": [
       "(10158, 12)"
      ]
     },
     "execution_count": 66,
     "metadata": {},
     "output_type": "execute_result"
    }
   ],
   "source": [
    "dfTrain.shape"
   ]
  },
  {
   "cell_type": "code",
   "execution_count": 58,
   "metadata": {},
   "outputs": [
    {
     "name": "stdout",
     "output_type": "stream",
     "text": [
      "================================\n",
      "Index for run: 1, fold: 1\n",
      "Train (num = 3386)\n",
      "[ 3  8 10 11 12 20 21 22 28 33]\n",
      "Valid (num = 6772)\n",
      "[ 0  1  2  4  5  6  7  9 13 14]\n",
      "================================\n",
      "Index for run: 1, fold: 2\n",
      "Train (num = 3386)\n",
      "[ 2  5  6 14 16 17 18 19 23 25]\n",
      "Valid (num = 6772)\n",
      "[ 0  1  3  4  7  8  9 10 11 12]\n",
      "================================\n",
      "Index for run: 1, fold: 3\n",
      "Train (num = 3386)\n",
      "[ 0  1  4  7  9 13 15 24 27 30]\n",
      "Valid (num = 6772)\n",
      "[ 2  3  5  6  8 10 11 12 14 16]\n",
      "================================\n",
      "Index for run: 2, fold: 1\n",
      "Train (num = 3386)\n",
      "[ 0  1  9 11 17 21 27 28 31 34]\n",
      "Valid (num = 6772)\n",
      "[ 2  3  4  5  6  7  8 10 12 13]\n",
      "================================\n",
      "Index for run: 2, fold: 2\n",
      "Train (num = 3386)\n",
      "[ 3  5  6  8 10 14 23 25 26 30]\n",
      "Valid (num = 6772)\n",
      "[ 0  1  2  4  7  9 11 12 13 15]\n",
      "================================\n",
      "Index for run: 2, fold: 3\n",
      "Train (num = 3386)\n",
      "[ 2  4  7 12 13 15 16 18 19 20]\n",
      "Valid (num = 6772)\n",
      "[ 0  1  3  5  6  8  9 10 11 14]\n",
      "================================\n",
      "Index for run: 3, fold: 1\n",
      "Train (num = 3386)\n",
      "[ 1  3  8 10 11 12 13 14 15 19]\n",
      "Valid (num = 6772)\n",
      "[ 0  2  4  5  6  7  9 16 17 18]\n",
      "================================\n",
      "Index for run: 3, fold: 2\n",
      "Train (num = 3386)\n",
      "[ 4  5 16 18 22 24 27 30 32 38]\n",
      "Valid (num = 6772)\n",
      "[ 0  1  2  3  6  7  8  9 10 11]\n",
      "================================\n",
      "Index for run: 3, fold: 3\n",
      "Train (num = 3386)\n",
      "[ 0  2  6  7  9 17 20 28 29 33]\n",
      "Valid (num = 6772)\n",
      "[ 1  3  4  5  8 10 11 12 13 14]\n"
     ]
    },
    {
     "name": "stderr",
     "output_type": "stream",
     "text": [
      "c:\\python36\\lib\\site-packages\\sklearn\\model_selection\\_split.py:581: Warning: The least populated class in y has only 1 members, which is too few. The minimum number of groups for any class cannot be less than n_splits=3.\n",
      "  % (min_groups, self.n_splits)), Warning)\n"
     ]
    },
    {
     "name": "stdout",
     "output_type": "stream",
     "text": [
      "================================\n",
      "Index for run: 1, fold: 1\n",
      "Train (num = 3469)\n",
      "[ 4  5 12 14 16 18 20 22 29 30]\n",
      "Valid (num = 6689)\n",
      "[ 0  1  2  3  6  7  8  9 10 11]\n",
      "================================\n",
      "Index for run: 1, fold: 2\n",
      "Train (num = 3393)\n",
      "[ 3  8 13 15 19 24 25 26 27 32]\n",
      "Valid (num = 6765)\n",
      "[ 0  1  2  4  5  6  7  9 10 11]\n",
      "================================\n",
      "Index for run: 1, fold: 3\n",
      "Train (num = 3296)\n",
      "[ 0  1  2  6  7  9 10 11 17 21]\n",
      "Valid (num = 6862)\n",
      "[ 3  4  5  8 12 13 14 15 16 18]\n",
      "================================\n",
      "Index for run: 2, fold: 1\n",
      "Train (num = 3470)\n",
      "[ 0  2  6  7  9 10 12 14 15 16]\n",
      "Valid (num = 6688)\n",
      "[ 1  3  4  5  8 11 13 18 20 22]\n",
      "================================\n",
      "Index for run: 2, fold: 2\n",
      "Train (num = 3393)\n",
      "[13 18 24 25 38 39 40 42 43 48]\n",
      "Valid (num = 6765)\n",
      "[0 1 2 3 4 5 6 7 8 9]\n",
      "================================\n",
      "Index for run: 2, fold: 3\n",
      "Train (num = 3295)\n",
      "[ 1  3  4  5  8 11 20 22 23 30]\n",
      "Valid (num = 6863)\n",
      "[ 0  2  6  7  9 10 12 13 14 15]\n",
      "================================\n",
      "Index for run: 3, fold: 1\n",
      "Train (num = 3470)\n",
      "[ 0  3  7  8  9 13 16 20 26 27]\n",
      "Valid (num = 6688)\n",
      "[ 1  2  4  5  6 10 11 12 14 15]\n",
      "================================\n",
      "Index for run: 3, fold: 2\n",
      "Train (num = 3393)\n",
      "[ 2  6 11 12 14 19 21 22 24 28]\n",
      "Valid (num = 6765)\n",
      "[ 0  1  3  4  5  7  8  9 10 13]\n",
      "================================\n",
      "Index for run: 3, fold: 3\n",
      "Train (num = 3295)\n",
      "[ 1  4  5 10 15 17 18 23 25 31]\n",
      "Valid (num = 6863)\n",
      "[ 0  2  3  6  7  8  9 11 12 13]\n"
     ]
    }
   ],
   "source": [
    "for stratified_label,key in zip([\"relevance\", \"query\"], [\"median_relevance\", \"qid\"]):\n",
    "    for run in range(3):\n",
    "        random_seed = 2015 + 1000 * (run+1)\n",
    "        y = dfTrain[key]\n",
    "        X = y.values.reshape(len(y), 1)\n",
    "        skf[run] = StratifiedKFold(shuffle=True, random_state=random_seed)\n",
    "        for fold, (validInd, trainInd) in enumerate(list(skf[run].split(X, y))):\n",
    "            print(\"================================\")\n",
    "            print(\"Index for run: %s, fold: %s\" % (run+1, fold+1))\n",
    "            print(\"Train (num = %s)\" % len(trainInd))\n",
    "            print(trainInd[:10])\n",
    "            print(\"Valid (num = %s)\" % len(validInd))\n",
    "            print(validInd[:10])\n",
    "    with open(\"%s/stratifiedKFold.%s.pkl\" % (\"./\", stratified_label), \"wb\") as f:\n",
    "        cPickle.dump(skf, f, -1)\n"
   ]
  },
  {
   "cell_type": "markdown",
   "metadata": {},
   "source": [
    "StratifiedKFold old version(cross_validation) vs new version(model_selection): Comparison and None argument issue (https://github.com/scikit-learn/scikit-learn/issues/7126), "
   ]
  },
  {
   "cell_type": "code",
   "execution_count": 39,
   "metadata": {
    "collapsed": true
   },
   "outputs": [],
   "source": [
    "import sklearn.cross_validation\n",
    "import sklearn.model_selection\n",
    "y = np.array([0, 0, 1, 1, 1, 0, 0, 1])\n",
    "X = y.reshape(len(y), 1)"
   ]
  },
  {
   "cell_type": "code",
   "execution_count": 46,
   "metadata": {},
   "outputs": [
    {
     "data": {
      "text/plain": [
       "sklearn.cross_validation.StratifiedKFold(labels=[0 0 1 1 1 0 0 1], n_folds=3, shuffle=False, random_state=0)"
      ]
     },
     "execution_count": 46,
     "metadata": {},
     "output_type": "execute_result"
    }
   ],
   "source": [
    "# In the old version all that is needed is the labels\n",
    "skf_old = sklearn.cross_validation.StratifiedKFold(y, random_state=0)\n",
    "indicies_old = list(skf_old)\n",
    "skf_old"
   ]
  },
  {
   "cell_type": "code",
   "execution_count": 48,
   "metadata": {
    "scrolled": true
   },
   "outputs": [
    {
     "data": {
      "text/plain": [
       "[(array([4, 5, 6, 7]), array([0, 1, 2, 3])),\n",
       " (array([0, 1, 2, 3, 6, 7]), array([4, 5])),\n",
       " (array([0, 1, 2, 3, 4, 5]), array([6, 7]))]"
      ]
     },
     "execution_count": 48,
     "metadata": {},
     "output_type": "execute_result"
    }
   ],
   "source": [
    "indicies_old"
   ]
  },
  {
   "cell_type": "code",
   "execution_count": 50,
   "metadata": {},
   "outputs": [
    {
     "data": {
      "text/plain": [
       "StratifiedKFold(n_splits=3, random_state=0, shuffle=False)"
      ]
     },
     "execution_count": 50,
     "metadata": {},
     "output_type": "execute_result"
    }
   ],
   "source": [
    "# The new version seems to require a data array for some reason\n",
    "skf_new = sklearn.model_selection.StratifiedKFold(random_state=0)\n",
    "indicies_new = list(skf_new.split(X, y))\n",
    "skf_new"
   ]
  },
  {
   "cell_type": "code",
   "execution_count": 67,
   "metadata": {},
   "outputs": [
    {
     "data": {
      "text/plain": [
       "[(array([4, 5, 6, 7]), array([0, 1, 2, 3])),\n",
       " (array([0, 1, 2, 3, 6, 7]), array([4, 5])),\n",
       " (array([0, 1, 2, 3, 4, 5]), array([6, 7]))]"
      ]
     },
     "execution_count": 67,
     "metadata": {},
     "output_type": "execute_result"
    }
   ],
   "source": [
    "indicies_new"
   ]
  },
  {
   "cell_type": "markdown",
   "metadata": {},
   "source": [
    "LabelBinarizer: Binarize labels in a one-vs-all fashion\n",
    "Ref: http://scikit-learn.org/stable/modules/generated/sklearn.preprocessing.LabelBinarizer.html\n",
    "\n",
    "At learning time, this simply consists in learning one regressor or binary classifier per class. In doing so, one needs to convert multi-class labels to binary labels (belong or does not belong to the class). LabelBinarizer makes this process easy with the transform method.\n",
    "\n",
    "At prediction time, one assigns the class for which the corresponding model gave the greatest confidence. LabelBinarizer makes this easy with the inverse_transform method."
   ]
  },
  {
   "cell_type": "code",
   "execution_count": 94,
   "metadata": {},
   "outputs": [
    {
     "data": {
      "text/plain": [
       "array([1, 2, 4, 6])"
      ]
     },
     "execution_count": 94,
     "metadata": {},
     "output_type": "execute_result"
    }
   ],
   "source": [
    "from sklearn import preprocessing\n",
    "lb = preprocessing.LabelBinarizer()\n",
    "lb.fit([1, 2, 6, 4, 2])\n",
    "lb.classes_"
   ]
  },
  {
   "cell_type": "code",
   "execution_count": 98,
   "metadata": {},
   "outputs": [
    {
     "data": {
      "text/plain": [
       "array([[1, 0, 0, 0],\n",
       "       [0, 1, 0, 0],\n",
       "       [0, 0, 1, 0],\n",
       "       [0, 0, 0, 1],\n",
       "       [0, 1, 0, 0],\n",
       "       [0, 0, 0, 0]], dtype=int32)"
      ]
     },
     "execution_count": 98,
     "metadata": {},
     "output_type": "execute_result"
    }
   ],
   "source": [
    "lb.transform([1, 2, 4, 6, 2])"
   ]
  },
  {
   "cell_type": "markdown",
   "metadata": {},
   "source": [
    "Binary targets transform into column vector"
   ]
  },
  {
   "cell_type": "code",
   "execution_count": 89,
   "metadata": {},
   "outputs": [
    {
     "data": {
      "text/plain": [
       "array([[0],\n",
       "       [1]], dtype=int32)"
      ]
     },
     "execution_count": 89,
     "metadata": {},
     "output_type": "execute_result"
    }
   ],
   "source": [
    "lb = preprocessing.LabelBinarizer()\n",
    "lb.fit(['yes', 'no', 'no', 'yes'])\n",
    "lb.classes_\n",
    "lb.transform(['no', 'yes'])"
   ]
  },
  {
   "cell_type": "code",
   "execution_count": 104,
   "metadata": {},
   "outputs": [
    {
     "data": {
      "text/plain": [
       "array([0, 1, 2])"
      ]
     },
     "execution_count": 104,
     "metadata": {},
     "output_type": "execute_result"
    }
   ],
   "source": [
    "import numpy as np\n",
    "lb.fit(np.array([[0, 1, 1], [1, 0, 0]]))\n",
    "lb.classes_"
   ]
  },
  {
   "cell_type": "code",
   "execution_count": 107,
   "metadata": {},
   "outputs": [
    {
     "data": {
      "text/plain": [
       "array([[1, 0, 0],\n",
       "       [0, 1, 0],\n",
       "       [0, 0, 1],\n",
       "       [1, 0, 0],\n",
       "       [0, 0, 1]], dtype=int32)"
      ]
     },
     "execution_count": 107,
     "metadata": {},
     "output_type": "execute_result"
    }
   ],
   "source": [
    "lb.transform([0, 1, 2, 0, 2])"
   ]
  }
 ],
 "metadata": {
  "kernelspec": {
   "display_name": "Python 3",
   "language": "python",
   "name": "python3"
  },
  "language_info": {
   "codemirror_mode": {
    "name": "ipython",
    "version": 3
   },
   "file_extension": ".py",
   "mimetype": "text/x-python",
   "name": "python",
   "nbconvert_exporter": "python",
   "pygments_lexer": "ipython3",
   "version": "3.6.0"
  }
 },
 "nbformat": 4,
 "nbformat_minor": 2
}
